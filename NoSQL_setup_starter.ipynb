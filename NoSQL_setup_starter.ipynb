{
 "cells": [
  {
   "cell_type": "code",
   "execution_count": 1,
   "id": "3a36d257",
   "metadata": {},
   "outputs": [],
   "source": [
    "# Import dependencies\n",
    "from pymongo import MongoClient\n",
    "from pprint import pprint"
   ]
  },
  {
   "cell_type": "code",
   "execution_count": 2,
   "id": "f7fe3b84",
   "metadata": {},
   "outputs": [],
   "source": [
    "# Create an instance of MongoClient\n",
    "mongo = MongoClient(port=27017)"
   ]
  },
  {
   "cell_type": "code",
   "execution_count": 4,
   "id": "7139948d",
   "metadata": {},
   "outputs": [
    {
     "name": "stdout",
     "output_type": "stream",
     "text": [
      "Database 'uk_food' does not exist.\n"
     ]
    }
   ],
   "source": [
    "# confirm that our new database was created\n",
    "\n",
    "if 'uk_food' in mongo.list_database_names():\n",
    "    print(\"Database 'uk_food' exists.\")\n",
    "else:\n",
    "    print(\"Database 'uk_food' does not exist.\")\n"
   ]
  },
  {
   "cell_type": "code",
   "execution_count": 5,
   "id": "9344bb80",
   "metadata": {},
   "outputs": [],
   "source": [
    "# assign the uk_food database to a variable name\n",
    "db = mongo['uk_food']"
   ]
  },
  {
   "cell_type": "code",
   "execution_count": 6,
   "id": "b8a73520",
   "metadata": {},
   "outputs": [],
   "source": [
    "# List the collections in the 'uk_food' database\n",
    "collection_list = db.list_collection_names()\n",
    "\n",
    "# Print the collections\n",
    "for collection in collection_list:\n",
    "    print(collection)\n"
   ]
  },
  {
   "cell_type": "code",
   "execution_count": 7,
   "id": "2d39b46b",
   "metadata": {},
   "outputs": [],
   "source": [
    "# List the collections in the 'uk_food' database\n",
    "collection_list = db.list_collection_names()\n",
    "\n",
    "# Print the collections\n",
    "for collection_name in collection_list:\n",
    "    print(collection_name)\n"
   ]
  },
  {
   "cell_type": "code",
   "execution_count": 8,
   "id": "e51147a7",
   "metadata": {},
   "outputs": [
    {
     "name": "stdout",
     "output_type": "stream",
     "text": [
      "None\n"
     ]
    }
   ],
   "source": [
    "# Find and display one document from the 'establishments' collection\n",
    "document = db.establishments.find_one()\n",
    "pprint(document)\n"
   ]
  },
  {
   "cell_type": "code",
   "execution_count": 9,
   "id": "584d0b28",
   "metadata": {},
   "outputs": [],
   "source": [
    "# assign the collection to a variable\n",
    "establishments = db['establishments']"
   ]
  },
  {
   "cell_type": "markdown",
   "id": "8a4a7051",
   "metadata": {},
   "source": [
    "# Part 2: Update the Database\n"
   ]
  },
  {
   "cell_type": "markdown",
   "id": "828702d9",
   "metadata": {},
   "source": [
    "# 1. An exciting new halal restaurant just opened in Greenwich, but hasn't been rated yet. The magazine has asked you to include it in your analysis. Add the following restaurant \"Penang Flavours\" to the database."
   ]
  },
  {
   "cell_type": "code",
   "execution_count": 11,
   "id": "c5e22cb7",
   "metadata": {},
   "outputs": [],
   "source": [
    "# Define the new restaurant data\n",
    "new_restaurant = {\n",
    "    \"name\": \"Penang Flavours\",\n",
    "    \"address\": \"123 Main Street, Greenwich\",\n",
    "    \"city\": \"London\",\n",
    "    \"postcode\": \"SE10 9XYZ\",\n",
    "    \"cuisine\": \"Halal\",\n",
    "    \"rating\": None\n",
    "}\n"
   ]
  },
  {
   "cell_type": "code",
   "execution_count": 12,
   "id": "0ec6b286",
   "metadata": {},
   "outputs": [
    {
     "name": "stdout",
     "output_type": "stream",
     "text": [
      "Inserted document ID: 646e9178fd76d5af1b172610\n"
     ]
    }
   ],
   "source": [
    "# Insert the new restaurant document into the collection\n",
    "result = db.establishments.insert_one(new_restaurant)\n",
    "\n",
    "# Print the inserted document ID\n",
    "print(\"Inserted document ID:\", result.inserted_id)\n",
    "\n"
   ]
  },
  {
   "cell_type": "code",
   "execution_count": 13,
   "id": "da41d4cd",
   "metadata": {},
   "outputs": [
    {
     "name": "stdout",
     "output_type": "stream",
     "text": [
      "{'_id': ObjectId('646e9178fd76d5af1b172610'),\n",
      " 'address': '123 Main Street, Greenwich',\n",
      " 'city': 'London',\n",
      " 'cuisine': 'Halal',\n",
      " 'name': 'Penang Flavours',\n",
      " 'postcode': 'SE10 9XYZ',\n",
      " 'rating': None}\n"
     ]
    }
   ],
   "source": [
    "# Find the newly inserted restaurant document\n",
    "inserted_restaurant = db.establishments.find_one({\"name\": \"Penang Flavours\"})\n",
    "\n",
    "# Print the inserted restaurant document\n",
    "pprint(inserted_restaurant)\n"
   ]
  },
  {
   "cell_type": "markdown",
   "id": "463bcca2",
   "metadata": {},
   "source": [
    "# 2. Find the BusinessTypeID for \"Restaurant/Cafe/Canteen\" and return only the `BusinessTypeID` and `BusinessType` fields."
   ]
  },
  {
   "cell_type": "code",
   "execution_count": 14,
   "id": "b86cd9b9",
   "metadata": {},
   "outputs": [],
   "source": [
    "# Find the BusinessTypeID for \"Restaurant/Cafe/Canteen\" and return specific fields\n",
    "query = {\"BusinessType\": \"Restaurant/Cafe/Canteen\"}\n",
    "projection = {\"BusinessTypeID\": 1, \"BusinessType\": 1, \"_id\": 0}\n",
    "\n",
    "result = db.establishments.find(query, projection)\n",
    "\n",
    "# Print the results\n",
    "for document in result:\n",
    "    pprint(document)\n"
   ]
  },
  {
   "cell_type": "code",
   "execution_count": 16,
   "id": "00052ab1",
   "metadata": {},
   "outputs": [
    {
     "name": "stdout",
     "output_type": "stream",
     "text": [
      "Number of documents updated: 1\n"
     ]
    }
   ],
   "source": [
    "# Update the new restaurant with the correct BusinessTypeID\n",
    "\n",
    "# Define the query to find the new restaurant\n",
    "query = {\"name\": \"Penang Flavours\"}\n",
    "\n",
    "# Define the update to set the correct BusinessTypeID\n",
    "update = {\"$set\": {\"BusinessTypeID\": \"your_business_type_id\"}}\n",
    "\n",
    "# Update the restaurant document\n",
    "result = db.establishments.update_one(query, update)\n",
    "\n",
    "# Print the number of documents updated\n",
    "print(\"Number of documents updated:\", result.modified_count)\n"
   ]
  },
  {
   "cell_type": "code",
   "execution_count": 17,
   "id": "84a9da73",
   "metadata": {},
   "outputs": [
    {
     "name": "stdout",
     "output_type": "stream",
     "text": [
      "{'BusinessTypeID': 'your_business_type_id',\n",
      " '_id': ObjectId('646e9178fd76d5af1b172610'),\n",
      " 'address': '123 Main Street, Greenwich',\n",
      " 'city': 'London',\n",
      " 'cuisine': 'Halal',\n",
      " 'name': 'Penang Flavours',\n",
      " 'postcode': 'SE10 9XYZ',\n",
      " 'rating': None}\n"
     ]
    }
   ],
   "source": [
    "# Confirm that the new restaurant was updated\n",
    "\n",
    "# Find the updated restaurant document\n",
    "updated_restaurant = db.establishments.find_one({\"name\": \"Penang Flavours\"})\n",
    "\n",
    "# Print the updated restaurant document\n",
    "pprint(updated_restaurant)\n"
   ]
  },
  {
   "cell_type": "markdown",
   "id": "fb992fd8",
   "metadata": {},
   "source": [
    "# 4. The magazine is not interested in any establishments in Dover, so check how many documents contain the Dover Local Authority. Then, remove any establishments within the Dover Local Authority from the database, and check the number of documents to ensure they were deleted."
   ]
  },
  {
   "cell_type": "code",
   "execution_count": 18,
   "id": "de80f528",
   "metadata": {},
   "outputs": [
    {
     "name": "stdout",
     "output_type": "stream",
     "text": [
      "Number of documents with LocalAuthorityName as 'Dover': 0\n"
     ]
    }
   ],
   "source": [
    "# Find how many documents have LocalAuthorityName as \"Dover\"\n",
    "\n",
    "# Count the number of documents with LocalAuthorityName as \"Dover\"\n",
    "dover_query = {\"LocalAuthorityName\": \"Dover\"}\n",
    "dover_count = db.establishments.count_documents(dover_query)\n",
    "print(\"Number of documents with LocalAuthorityName as 'Dover':\", dover_count)\n"
   ]
  },
  {
   "cell_type": "code",
   "execution_count": 19,
   "id": "46bfb1be",
   "metadata": {},
   "outputs": [
    {
     "name": "stdout",
     "output_type": "stream",
     "text": [
      "Number of documents deleted: 0\n"
     ]
    }
   ],
   "source": [
    "# Delete all documents where LocalAuthorityName is \"Dover\"\n",
    "\n",
    "dover_query = {\"LocalAuthorityName\": \"Dover\"}\n",
    "delete_result = db.establishments.delete_many(dover_query)\n",
    "\n",
    "# Print the number of deleted documents\n",
    "print(\"Number of documents deleted:\", delete_result.deleted_count)\n",
    "\n"
   ]
  },
  {
   "cell_type": "code",
   "execution_count": 20,
   "id": "a25a12cc",
   "metadata": {},
   "outputs": [
    {
     "name": "stdout",
     "output_type": "stream",
     "text": [
      "No remaining documents with LocalAuthorityName as 'Dover'\n"
     ]
    }
   ],
   "source": [
    "# Check if any remaining documents include Dover\n",
    "\n",
    "remaining_query = {\"LocalAuthorityName\": \"Dover\"}\n",
    "remaining_count = db.establishments.count_documents(remaining_query)\n",
    "if remaining_count > 0:\n",
    "    print(\"There are remaining documents with LocalAuthorityName as 'Dover'\")\n",
    "else:\n",
    "    print(\"No remaining documents with LocalAuthorityName as 'Dover'\")\n"
   ]
  },
  {
   "cell_type": "code",
   "execution_count": 21,
   "id": "20443cba",
   "metadata": {},
   "outputs": [
    {
     "name": "stdout",
     "output_type": "stream",
     "text": [
      "There are remaining documents in the collection.\n",
      "{'BusinessTypeID': 'your_business_type_id',\n",
      " '_id': ObjectId('646e9178fd76d5af1b172610'),\n",
      " 'address': '123 Main Street, Greenwich',\n",
      " 'city': 'London',\n",
      " 'cuisine': 'Halal',\n",
      " 'name': 'Penang Flavours',\n",
      " 'postcode': 'SE10 9XYZ',\n",
      " 'rating': None}\n"
     ]
    }
   ],
   "source": [
    "# Check if any documents remain in the collection using find_one\n",
    "remaining_document = db.establishments.find_one({})\n",
    "if remaining_document is not None:\n",
    "    print(\"There are remaining documents in the collection.\")\n",
    "    pprint(remaining_document)\n",
    "else:\n",
    "    print(\"No remaining documents in the collection.\")\n"
   ]
  },
  {
   "cell_type": "markdown",
   "id": "1e741290",
   "metadata": {},
   "source": [
    "\n",
    "# 5. Some of the number values are stored as strings, when they should be stored as numbers.Use `update_many` to convert `latitude` and `longitude` to decimal numbers."
   ]
  },
  {
   "cell_type": "code",
   "execution_count": 22,
   "id": "28f4a462",
   "metadata": {},
   "outputs": [
    {
     "name": "stdout",
     "output_type": "stream",
     "text": [
      "Number of documents updated: 0\n"
     ]
    }
   ],
   "source": [
    "# Change the data type from String to Decimal for longitude and latitude\n",
    "\n",
    "from bson.decimal128 import Decimal128\n",
    "\n",
    "# Convert latitude and longitude fields to decimal numbers\n",
    "update_query = {\"$or\": [{\"longitude\": {\"$type\": \"string\"}}, {\"latitude\": {\"$type\": \"string\"}}]}\n",
    "update_fields = {\"longitude\": Decimal128(\"0\"), \"latitude\": Decimal128(\"0\")}\n",
    "\n",
    "result = db.establishments.update_many(update_query, {\"$set\": update_fields})\n",
    "\n",
    "print(\"Number of documents updated:\", result.modified_count)\n"
   ]
  },
  {
   "cell_type": "code",
   "execution_count": 24,
   "id": "c9d69f14",
   "metadata": {},
   "outputs": [
    {
     "data": {
      "text/plain": [
       "<pymongo.results.UpdateResult at 0x1ff657fbb50>"
      ]
     },
     "execution_count": 24,
     "metadata": {},
     "output_type": "execute_result"
    }
   ],
   "source": [
    "# Set non 1-5 Rating Values to Null\n",
    "non_ratings = [\"AwaitingInspection\", \"Awaiting Inspection\", \"AwaitingPublication\", \"Pass\", \"Exempt\"]\n",
    "establishments.update_many({\"RatingValue\": {\"$in\": non_ratings}}, [ {'$set':{ \"RatingValue\" : None}} ])\n"
   ]
  },
  {
   "cell_type": "code",
   "execution_count": 25,
   "id": "1018a9bc",
   "metadata": {},
   "outputs": [
    {
     "name": "stdout",
     "output_type": "stream",
     "text": [
      "Number of documents updated: 0\n"
     ]
    }
   ],
   "source": [
    "# Convert RatingValue field to integer numbers\n",
    "result = db.establishments.update_many(\n",
    "    {\"RatingValue\": {\"$type\": \"string\"}},\n",
    "    [{\"$set\": {\"RatingValue\": {\"$toInt\": \"$RatingValue\"}}}]\n",
    ")\n",
    "\n",
    "print(\"Number of documents updated:\", result.modified_count)\n"
   ]
  },
  {
   "cell_type": "code",
   "execution_count": 26,
   "id": "dd32b0b1",
   "metadata": {},
   "outputs": [
    {
     "name": "stdout",
     "output_type": "stream",
     "text": [
      "Coordinates (latitude and longitude) and RatingValue are not numbers.\n"
     ]
    }
   ],
   "source": [
    "# Check the data types of coordinates and RatingValue fields\n",
    "document = db.establishments.find_one({})\n",
    "\n",
    "latitude = document.get(\"latitude\")\n",
    "longitude = document.get(\"longitude\")\n",
    "rating_value = document.get(\"RatingValue\")\n",
    "\n",
    "if isinstance(latitude, (int, float)) and isinstance(longitude, (int, float)) and isinstance(rating_value, (int, float)):\n",
    "    print(\"Coordinates (latitude and longitude) and RatingValue are now numbers.\")\n",
    "else:\n",
    "    print(\"Coordinates (latitude and longitude) and RatingValue are not numbers.\")\n"
   ]
  },
  {
   "cell_type": "code",
   "execution_count": null,
   "id": "42fb4e2d",
   "metadata": {},
   "outputs": [],
   "source": []
  }
 ],
 "metadata": {
  "kernelspec": {
   "display_name": "Python 3 (ipykernel)",
   "language": "python",
   "name": "python3"
  },
  "language_info": {
   "codemirror_mode": {
    "name": "ipython",
    "version": 3
   },
   "file_extension": ".py",
   "mimetype": "text/x-python",
   "name": "python",
   "nbconvert_exporter": "python",
   "pygments_lexer": "ipython3",
   "version": "3.9.13"
  }
 },
 "nbformat": 4,
 "nbformat_minor": 5
}
